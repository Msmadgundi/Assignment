{
 "cells": [
  {
   "cell_type": "code",
   "execution_count": null,
   "id": "ee67820f-4811-45ea-a1b5-ebec79a89a14",
   "metadata": {},
   "outputs": [],
   "source": [
    "A1. Python Programming Language was developed by Guido van Rossum in 1989."
   ]
  },
  {
   "cell_type": "code",
   "execution_count": null,
   "id": "c10abeb5-5e53-4a78-9e1c-a194cd68b571",
   "metadata": {},
   "outputs": [],
   "source": [
    "A2. Python supports object-oriented, structured, and funtional programming."
   ]
  },
  {
   "cell_type": "code",
   "execution_count": null,
   "id": "8f44af11-bec8-4942-be03-489f33305bc9",
   "metadata": {},
   "outputs": [],
   "source": [
    "A3. Python is case sensitive when dealing with identifiers."
   ]
  },
  {
   "cell_type": "code",
   "execution_count": null,
   "id": "70b3fc72-612c-4997-a11b-c45f976f870d",
   "metadata": {},
   "outputs": [],
   "source": [
    "A4. (.py) is the extension of the python file."
   ]
  },
  {
   "cell_type": "code",
   "execution_count": null,
   "id": "fab9cd4f-4f28-4865-8d00-bd40538629f5",
   "metadata": {},
   "outputs": [],
   "source": [
    "A5. Python code is Interpreted."
   ]
  },
  {
   "cell_type": "code",
   "execution_count": null,
   "id": "ba7eff82-5b0f-49e8-9aa6-df3fa082c544",
   "metadata": {},
   "outputs": [],
   "source": [
    "A6. Following are few blocks of code used to define in python language"
   ]
  },
  {
   "cell_type": "code",
   "execution_count": 4,
   "id": "118e46cb-6894-4190-8e15-3b748914c04c",
   "metadata": {},
   "outputs": [
    {
     "name": "stdout",
     "output_type": "stream",
     "text": [
      "Hi Mehul\n"
     ]
    }
   ],
   "source": [
    "name = 'Mehul'\n",
    "if name == 'Mehul' :\n",
    "    print('Hi Mehul')\n",
    "else :\n",
    "    print('Answer not found')"
   ]
  },
  {
   "cell_type": "code",
   "execution_count": 6,
   "id": "8603093f-a79a-456f-b81f-f9674e84d772",
   "metadata": {},
   "outputs": [],
   "source": [
    "l = [\"Mehul\" , \"pwskills\" , \"course\" , \"data science\"]"
   ]
  },
  {
   "cell_type": "code",
   "execution_count": 7,
   "id": "dc2e1430-52e0-4e99-bfe8-6b0232552572",
   "metadata": {},
   "outputs": [
    {
     "name": "stdout",
     "output_type": "stream",
     "text": [
      "Mehul\n",
      "pwskills\n",
      "course\n",
      "data science\n"
     ]
    }
   ],
   "source": [
    "l1 = []\n",
    "for i in l:\n",
    "    print(i)\n",
    "    l1.append(i.upper())"
   ]
  },
  {
   "cell_type": "code",
   "execution_count": 8,
   "id": "b74945c1-de0b-463c-889a-acd944d6675e",
   "metadata": {},
   "outputs": [
    {
     "data": {
      "text/plain": [
       "['MEHUL', 'PWSKILLS', 'COURSE', 'DATA SCIENCE']"
      ]
     },
     "execution_count": 8,
     "metadata": {},
     "output_type": "execute_result"
    }
   ],
   "source": [
    "l1"
   ]
  },
  {
   "cell_type": "code",
   "execution_count": null,
   "id": "9fa94c99-f8e7-4b8e-9b36-1bad28dd7d67",
   "metadata": {},
   "outputs": [],
   "source": [
    "A7. # is used to give single-line comments in python."
   ]
  },
  {
   "cell_type": "code",
   "execution_count": null,
   "id": "508bce19-c08f-45c7-887b-8eda2ebb1ba8",
   "metadata": {},
   "outputs": [],
   "source": [
    "A8. Functions to check python versions are:"
   ]
  },
  {
   "cell_type": "code",
   "execution_count": 9,
   "id": "85b34ae9-200c-4090-8154-d2b9720906d5",
   "metadata": {},
   "outputs": [
    {
     "name": "stdout",
     "output_type": "stream",
     "text": [
      "3.10.8 | packaged by conda-forge | (main, Nov 22 2022, 08:26:04) [GCC 10.4.0]\n"
     ]
    }
   ],
   "source": [
    "import sys\n",
    "print (sys.version)"
   ]
  },
  {
   "cell_type": "code",
   "execution_count": 10,
   "id": "0b2102bf-369e-4af1-ac63-a18df3845997",
   "metadata": {},
   "outputs": [
    {
     "name": "stdout",
     "output_type": "stream",
     "text": [
      "3.10.8\n"
     ]
    }
   ],
   "source": [
    "import platform\n",
    "print (platform.python_version())"
   ]
  },
  {
   "cell_type": "code",
   "execution_count": null,
   "id": "54147e94-e4a2-4126-9d77-ab685498f26a",
   "metadata": {},
   "outputs": [],
   "source": [
    "A9. Python supports the creation of anonymous functions at runtime, using a construct called \"LAMBDA\"."
   ]
  },
  {
   "cell_type": "code",
   "execution_count": null,
   "id": "ad9ad56a-ee8f-4f17-9406-c82089c5d266",
   "metadata": {},
   "outputs": [],
   "source": [
    "A10. Precise Infectious Packages stands for PIP in python."
   ]
  },
  {
   "cell_type": "code",
   "execution_count": null,
   "id": "b030468a-d4fb-4c0d-816c-2a2eb14820a6",
   "metadata": {},
   "outputs": [],
   "source": [
    "A11. Examples of python built in functions:\n",
    "    abs()  Returns the absolute value of a number\n",
    "    all.() Returns True if all items in an iterable object are true.\n",
    "    any() Returns True if any item in an iterable object is true.\n",
    "    bin() Returna the binary version of a number.\n",
    "    bool() Returns the boolean value of the specified object."
   ]
  },
  {
   "cell_type": "code",
   "execution_count": null,
   "id": "9059cfaf-fb34-4abd-847a-1a0bd101f5ef",
   "metadata": {},
   "outputs": [],
   "source": [
    "A12. The highest possible length of an identifier is 79 characters."
   ]
  },
  {
   "cell_type": "code",
   "execution_count": null,
   "id": "f1e1dda8-8735-4392-9b5e-cdad4d02c927",
   "metadata": {},
   "outputs": [],
   "source": [
    "A13. Benefits of using python are:\n",
    "    Easy to read, learn and code\n",
    "    Dynamic typing\n",
    "    Free, Open source\n",
    "    Portable\n",
    "    Extensive third-party libraries\n",
    "    Wide range of applications\n",
    "    Functional, object-oriented and procedural\n",
    "    Extensible and Integrable to other programming languages"
   ]
  },
  {
   "cell_type": "code",
   "execution_count": null,
   "id": "d3c99d5b-0b44-4516-af6e-72a8bf6a22b3",
   "metadata": {},
   "outputs": [],
   "source": [
    "A14. There are two types of memory allocation;\n",
    "    1- Static memory.\n",
    "        Memory in which assigned variables are permanent, which are to be allocated in \n",
    "        advance and persist for the duration of the program.\n",
    "        Ex.: x = 20\n",
    "             y = []\n",
    "             z = \"\"\n",
    "    2-Dynamic memory.\n",
    "        Memory in which assigned variables are not permanent and can be changed while a \n",
    "        program is running. Allotted memory can be relinquished and reused.\n",
    "        Ex.: x = [0]*5\n",
    "    Python garbage collection.\n",
    "        It handles memory allocation and deallocation automatically in python.\n",
    "        Garbage collection in python refers to the interpreter's memory management process\n",
    "        of freeing up unneeded and undesired memory for our applications."
   ]
  },
  {
   "cell_type": "code",
   "execution_count": null,
   "id": "1a972912-95d9-4647-89f6-767ed95b15b0",
   "metadata": {},
   "outputs": [],
   "source": [
    "A15. Python Download steps:\n",
    "    1- Download the python version of our choice.\n",
    "    2- Run the installer by running python_<version>.exe\n",
    "    3- Select \"Add python<version> to PATH\"\n",
    "    4- Click Install Now or customize installation.\n",
    "    5- Review the installation options and click next.\n",
    "    6- Select any of the following: \"Install for all users\", \"Associate files with python\",\n",
    "        \"Create shortcut for installed applications\", \"add python to environment variable\",\n",
    "        \"precompile standard library\", \"Download debugging symbols\" or \"Download debug binaries\".\n",
    "    7- Click install to start the installation.\n",
    "    8- After the installation is complete, a \"Setup was successful\" message displays.\n",
    "    \n",
    "    For setting path variables\n",
    "    1- Go to start and enter \"advance system settings\" in the search bar.\n",
    "    2- Click view advanced system settings.\n",
    "    3- in the system properties dialog, click the advanced tab and then click \"Environment \n",
    "        Variables.\n",
    "    4- Depending on the installation:\n",
    "            If \"install for all users\" is selected during installation, select path from the\n",
    "            list of system variable and click edit.\n",
    "            If \"install for all users\" is not selected , select path from the list of\n",
    "            user variable and click edit.\n",
    "    5- Click new and enter the python directry path, then click OK until all the dialogs are\n",
    "        closed.\n",
    "    6- Go to start and enter \"cmd\". click command promt.\n",
    "        Enter \"pyhton --version\"in the command promt.\n",
    "    7- Go to start and enter \"python\" and then click the IDLE app\n",
    "    8- You can start coding in python using IDLE or preferred code editor.\n",
    "    "
   ]
  },
  {
   "cell_type": "code",
   "execution_count": null,
   "id": "e2724a19-ccb0-42af-b67d-766400d06967",
   "metadata": {},
   "outputs": [],
   "source": [
    "A16. Indentation is required in python.\n",
    "    Python indentation is a way of telling a python interpreter that the group of statements\n",
    "    belongd to a particular block of code.\n",
    "    Python uses indenatation to highlight the bolcks of code.\n",
    "    Ex:\n",
    "        site = \"hyderabad\"\n",
    "        if site == \"hyderabad\":\n",
    "            print(\"Welcome to Hyderabad\")\n",
    "        else:\n",
    "            print(\"Hello\")"
   ]
  }
 ],
 "metadata": {
  "kernelspec": {
   "display_name": "Python 3 (ipykernel)",
   "language": "python",
   "name": "python3"
  },
  "language_info": {
   "codemirror_mode": {
    "name": "ipython",
    "version": 3
   },
   "file_extension": ".py",
   "mimetype": "text/x-python",
   "name": "python",
   "nbconvert_exporter": "python",
   "pygments_lexer": "ipython3",
   "version": "3.10.8"
  }
 },
 "nbformat": 4,
 "nbformat_minor": 5
}
